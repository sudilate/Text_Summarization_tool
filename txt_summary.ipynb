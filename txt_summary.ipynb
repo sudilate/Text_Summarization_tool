{
 "cells": [
  {
   "cell_type": "code",
   "execution_count": 1,
   "metadata": {},
   "outputs": [
    {
     "name": "stderr",
     "output_type": "stream",
     "text": [
      "Python-dotenv could not parse statement starting at line 1\n",
      "Python-dotenv could not parse statement starting at line 3\n"
     ]
    },
    {
     "data": {
      "text/plain": [
       "True"
      ]
     },
     "execution_count": 1,
     "metadata": {},
     "output_type": "execute_result"
    }
   ],
   "source": [
    "import os\n",
    "from dotenv import load_dotenv\n",
    "os.environ[\"OPENAI_API_KEY\"] = os.getenv(\"OPENAI_API_KEY\")\n",
    "load_dotenv()"
   ]
  },
  {
   "cell_type": "code",
   "execution_count": 2,
   "metadata": {},
   "outputs": [],
   "source": [
    "from langchain.chat_models import ChatOpenAI\n",
    "from langchain.schema import(\n",
    "    AIMessage,\n",
    "    SystemMessage,\n",
    "    HumanMessage\n",
    ")"
   ]
  },
  {
   "cell_type": "code",
   "execution_count": 3,
   "metadata": {},
   "outputs": [],
   "source": [
    "speech = \"\"\"It is peculiarly incumbent upon you who have strength to set a right example to others. I ask you to remember that you cannot retain your self-respect if you are loose and foul of tongue, that a man who is to lead a clean and honorable life must inevitably suffer if his speech likewise is not clean and honorable. Every man here knows the temptations that beset all of us in this world. At times any man will slip. I do not expect perfection, but I do expect genuine and sincere effort toward being decent and cleanly in thought, in word, and in deed. As I said at the outset, I hail the work of this society as typifying one of those forces which tend to the betterment and uplifting of our social system. Our whole effort should be toward securing a combination of the strong qualities with those qualities which we term virtues. I expect you to be strong. I would not respect you if you were not. I do not want to see Christianity professed only by weaklings; I want to see it a moving spirit among men of strength. I do not expect you to lose one particle of your strength or courage by being decent. On the contrary, I should hope to see each man who is a member of this society, from his membership in it become all the fitter to do the rough work of the world; all the fitter to work in time of peace; and if, which may Heaven forfend, war should come, all the fitter to fight in time of war. I desire to see in this country the decent men strong and the strong men decent, and until we get that combination in pretty good shape we are not going to be by any means as successful as we should be. There is always a tendency among very young men and among boys who are not quite young men as yet to think that to be wicked is rather smart; to think it shows that they are men. Oh, how often you see some young fellow who boasts that he is going to \"see life,\" meaning by that that he is going to see that part of life which it is a thousandfold better should remain unseen!\"\"\""
   ]
  },
  {
   "cell_type": "code",
   "execution_count": 4,
   "metadata": {},
   "outputs": [
    {
     "name": "stderr",
     "output_type": "stream",
     "text": [
      "/var/folders/tj/mjhklfhd2wq10lszc5sy13tr0000gn/T/ipykernel_82714/3323309270.py:6: LangChainDeprecationWarning: The class `ChatOpenAI` was deprecated in LangChain 0.0.10 and will be removed in 1.0. An updated version of the class exists in the :class:`~langchain-openai package and should be used instead. To use it run `pip install -U :class:`~langchain-openai` and import as `from :class:`~langchain_openai import ChatOpenAI``.\n",
      "  llm = ChatOpenAI(model_name='gpt-4o-mini')\n"
     ]
    }
   ],
   "source": [
    "chat_messages = [\n",
    "    SystemMessage(content='You are an expert assistant with expertize in summarizing speeches'),\n",
    "    HumanMessage(content=f\"Please provide a short and concise summary of the following speech:\\n TEXT: {speech}\")\n",
    "\n",
    "]\n",
    "llm = ChatOpenAI(model_name='gpt-4o-mini')\n"
   ]
  },
  {
   "cell_type": "code",
   "execution_count": 5,
   "metadata": {},
   "outputs": [
    {
     "data": {
      "text/plain": [
       "434"
      ]
     },
     "execution_count": 5,
     "metadata": {},
     "output_type": "execute_result"
    }
   ],
   "source": [
    "llm.get_num_tokens(speech)"
   ]
  },
  {
   "cell_type": "code",
   "execution_count": 7,
   "metadata": {},
   "outputs": [
    {
     "name": "stderr",
     "output_type": "stream",
     "text": [
      "/var/folders/tj/mjhklfhd2wq10lszc5sy13tr0000gn/T/ipykernel_82714/1441627176.py:1: LangChainDeprecationWarning: The method `BaseChatModel.__call__` was deprecated in langchain-core 0.1.7 and will be removed in 1.0. Use :meth:`~invoke` instead.\n",
      "  llm(chat_messages).content\n"
     ]
    },
    {
     "data": {
      "text/plain": [
       "'In this speech, the speaker emphasizes the importance of setting a strong moral example, particularly for those who possess strength. He asserts that maintaining self-respect requires clean and honorable speech, and that while perfection is not expected, a sincere effort towards decency is essential. The speaker praises the work of a society aimed at improving social standards and calls for the combination of strength with virtuous qualities. He desires to see strong men embodying decency, arguing that true strength does not diminish with decency. Additionally, he cautions against the misguided belief among youth that wickedness equates to manliness, advocating instead for a life of integrity.'"
      ]
     },
     "execution_count": 7,
     "metadata": {},
     "output_type": "execute_result"
    }
   ],
   "source": [
    "llm(chat_messages).content"
   ]
  },
  {
   "cell_type": "code",
   "execution_count": 8,
   "metadata": {},
   "outputs": [
    {
     "name": "stdout",
     "output_type": "stream",
     "text": [
      "The speaker emphasizes the importance of setting a positive example, particularly for those who possess strength. He argues that self-respect and a clean, honorable life are essential, and while perfection is not expected, genuine efforts toward decency in thought, word, and deed are crucial. The speaker commends the society's efforts toward social betterment and advocates for a combination of strength and virtue among men. He rejects the notion that wickedness is a sign of manliness, urging young men to seek a life of integrity instead. Ultimately, he calls for strong men to embody decency, asserting that this combination is vital for success in society.\n"
     ]
    }
   ],
   "source": [
    "##get_summary\n",
    "print(llm(chat_messages).content)"
   ]
  },
  {
   "cell_type": "markdown",
   "metadata": {},
   "source": [
    "Prompt Templates Text Summarization"
   ]
  },
  {
   "cell_type": "code",
   "execution_count": 9,
   "metadata": {},
   "outputs": [],
   "source": [
    "from langchain.chains import LLMChain\n",
    "from langchain import PromptTemplate"
   ]
  },
  {
   "cell_type": "code",
   "execution_count": 10,
   "metadata": {},
   "outputs": [],
   "source": [
    "generic_template='''\n",
    "Write a summary of the following speech:\n",
    "Speech : `{speech}`\n",
    "Translate the precise summary to {language}.\n",
    "'''\n",
    "prompt=PromptTemplate(\n",
    "    input_variables=['speech','language'],\n",
    "    template=generic_template\n",
    ")"
   ]
  },
  {
   "cell_type": "code",
   "execution_count": 11,
   "metadata": {},
   "outputs": [
    {
     "data": {
      "text/plain": [
       "'\\nWrite a summary of the following speech:\\nSpeech : `It is peculiarly incumbent upon you who have strength to set a right example to others. I ask you to remember that you cannot retain your self-respect if you are loose and foul of tongue, that a man who is to lead a clean and honorable life must inevitably suffer if his speech likewise is not clean and honorable. Every man here knows the temptations that beset all of us in this world. At times any man will slip. I do not expect perfection, but I do expect genuine and sincere effort toward being decent and cleanly in thought, in word, and in deed. As I said at the outset, I hail the work of this society as typifying one of those forces which tend to the betterment and uplifting of our social system. Our whole effort should be toward securing a combination of the strong qualities with those qualities which we term virtues. I expect you to be strong. I would not respect you if you were not. I do not want to see Christianity professed only by weaklings; I want to see it a moving spirit among men of strength. I do not expect you to lose one particle of your strength or courage by being decent. On the contrary, I should hope to see each man who is a member of this society, from his membership in it become all the fitter to do the rough work of the world; all the fitter to work in time of peace; and if, which may Heaven forfend, war should come, all the fitter to fight in time of war. I desire to see in this country the decent men strong and the strong men decent, and until we get that combination in pretty good shape we are not going to be by any means as successful as we should be. There is always a tendency among very young men and among boys who are not quite young men as yet to think that to be wicked is rather smart; to think it shows that they are men. Oh, how often you see some young fellow who boasts that he is going to \"see life,\" meaning by that that he is going to see that part of life which it is a thousandfold better should remain unseen!`\\nTranslate the precise summary to Kannada.\\n'"
      ]
     },
     "execution_count": 11,
     "metadata": {},
     "output_type": "execute_result"
    }
   ],
   "source": [
    "prompt.format(speech=speech,language='Kannada')"
   ]
  },
  {
   "cell_type": "code",
   "execution_count": 12,
   "metadata": {},
   "outputs": [],
   "source": [
    "complete_prompt=prompt.format(speech=speech,language='Kannada')"
   ]
  },
  {
   "cell_type": "code",
   "execution_count": 13,
   "metadata": {},
   "outputs": [
    {
     "data": {
      "text/plain": [
       "454"
      ]
     },
     "execution_count": 13,
     "metadata": {},
     "output_type": "execute_result"
    }
   ],
   "source": [
    "llm.get_num_tokens(complete_prompt)"
   ]
  },
  {
   "cell_type": "code",
   "execution_count": 15,
   "metadata": {},
   "outputs": [],
   "source": [
    "llm_chain=LLMChain(llm=llm,prompt=prompt)\n",
    "summary=llm_chain.run({'speech':speech,'language':'Kannada'})"
   ]
  },
  {
   "cell_type": "code",
   "execution_count": 16,
   "metadata": {},
   "outputs": [
    {
     "data": {
      "text/plain": [
       "\"**Summary:**\\nThe speaker emphasizes the importance of setting a good example through clean and honorable speech and actions. He acknowledges that everyone faces temptations and may slip, but he expects genuine efforts towards decency. The speaker praises the society's work in promoting virtues and highlights that true strength should be combined with decency. He believes that strong individuals can be decent without losing their courage and that society will be more successful when strong men are also decent. He warns young men against the misguided belief that being wicked is a sign of maturity, encouraging them to seek a better understanding of life.\\n\\n**Translation in Kannada:**\\nವಕ್ತಾರರು ಶುದ್ಧ ಮತ್ತು ಗೌರವಪೂರ್ವಕ ಭಾಷೆ ಮತ್ತು ಕ್ರಿಯೆಗಳ ಮೂಲಕ ಉತ್ತಮ ಮಾದರಿಯನ್ನು ಸ್ಥಾಪಿಸುವ ಮಹತ್ವವನ್ನು ಒತ್ತಿಸುತ್ತಾರೆ. ಪ್ರತಿಯೊಬ್ಬರಿಗೂ ಹತೋಟಿಗೆ ಬರುವಂತೆ ಧೃಷ್ಟಿಯುಂಟಾಗಬಹುದು ಎಂದು ಅವರು ಒಪ್ಪುತ್ತಾರೆ, ಆದರೆ ಅವರು ಶುದ್ಧತೆಗೆ ನಿಜವಾದ ಪ್ರಯತ್ನಗಳನ್ನು ನಿರೀಕ್ಷಿಸುತ್ತಾರೆ. ಶ್ರೇಣಿಯ ಅಭಿವೃದ್ಧಿಯಲ್ಲಿನ ಸಮಾಜದ ಕೆಲಸವನ್ನು ಅವರು ಮೆಚ್ಚುತ್ತಾರೆ ಮತ್ತು ನಿಜವಾದ ಶಕ್ತಿ ಶುದ್ಧತೆಯೊಂದಿಗೆ ಒಟ್ಟುಗೂಡಬೇಕಾಗಿದೆ ಎಂದು ಅವರು ಒತ್ತಿಸುತ್ತಾರೆ. ಶಕ್ತಿಶಾಲಿ ವ್ಯಕ್ತಿಗಳು ತಮ್ಮ ಧೈರ್ಯವನ್ನು ಕಳೆದುಕೊಂಡಿಲ್ಲದೆ ಶುದ್ಧರಾಗಬಹುದು ಎಂದು ಅವರು ನಂಬುತ್ತಾರೆ ಮತ್ತು ಶಕ್ತಿಶಾಲಿ ಪುರುಷರು ಶುದ್ಧರಾಗಿರುವಾಗ ಸಮಾಜವು ಹೆಚ್ಚು ಯಶಸ್ವಿಯಾಗಿದೆ. ಯುವ ಪುರುಷರು ದುಷ್ಟವಾಗುವುದು ಪ್ರೌಢತ್ವದ ಸೂಚಕವಾಗಿದೆ ಎಂಬ ತಪ್ಪು ನಂಬಿಕೆಯ ಬಗ್ಗೆ ಅವರು ಎಚ್ಚರಿಸುತ್ತಾರೆ, ಉತ್ತಮ ಜೀವನದ ಅರಿವನ್ನು ಹುಡುಕಲು ಅವರನ್ನು ಪ್ರೋತ್ಸಾಹಿಸುತ್ತಾರೆ.\""
      ]
     },
     "execution_count": 16,
     "metadata": {},
     "output_type": "execute_result"
    }
   ],
   "source": [
    "summary"
   ]
  }
 ],
 "metadata": {
  "kernelspec": {
   "display_name": "Python 3",
   "language": "python",
   "name": "python3"
  },
  "language_info": {
   "codemirror_mode": {
    "name": "ipython",
    "version": 3
   },
   "file_extension": ".py",
   "mimetype": "text/x-python",
   "name": "python",
   "nbconvert_exporter": "python",
   "pygments_lexer": "ipython3",
   "version": "3.9.20"
  }
 },
 "nbformat": 4,
 "nbformat_minor": 2
}
